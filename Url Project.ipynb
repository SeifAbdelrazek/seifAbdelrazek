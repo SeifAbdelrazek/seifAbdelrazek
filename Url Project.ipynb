{
 "cells": [
  {
   "cell_type": "code",
   "execution_count": 83,
   "id": "3f53bd33",
   "metadata": {},
   "outputs": [
    {
     "name": "stdout",
     "output_type": "stream",
     "text": [
      "[{'amount': '828400', 'duration': '120', 'rate': '0.11', 'down_payment': '100000', 'AfterDiscount': 728400.0}, {'amount': '4633400', 'duration': '240', 'rate': '0.06', 'down_payment': 0.0, 'AfterDiscount': 4633400.0}, {'amount': '42900', 'duration': '90', 'rate': '0.08', 'down_payment': '8900', 'AfterDiscount': 34000.0}, {'amount': '983000', 'duration': '16', 'rate': '0.14', 'down_payment': 0.0, 'AfterDiscount': 983000.0}, {'amount': '15230', 'duration': '48', 'rate': '0.07', 'down_payment': '4300', 'AfterDiscount': 10930.0}]\n"
     ]
    }
   ],
   "source": [
    "\"\"\">>>>>>> Assign each Values to Header In A Dictionary and Compute Debt Money >>>>>>>>\"\"\"\n",
    "def MakeHeader(header_line):\n",
    "    return header_line.strip().split(',')\n",
    "def get_values(data_line):\n",
    "    values=[]\n",
    "    for value in data_line.strip().split(','):\n",
    "        if value=='':\n",
    "            values.append(0.0)\n",
    "        else:\n",
    "            values.append(value)\n",
    "    return values        \n",
    "def make_dic(headers,values):\n",
    "    dic={}\n",
    "    for header,value in zip(headers,values):\n",
    "        dic[header]=value\n",
    "    return dic \n",
    "def ReadCsv(path):\n",
    "    with open(path,mode='r') as file:\n",
    "        results=[]\n",
    "        lines=file.readlines()\n",
    "        headers=MakeHeader(lines[0])\n",
    "        for line in lines[1:]:\n",
    "            vals=get_values(line)\n",
    "            results.append(make_dic(headers,vals))\n",
    "    return results\n",
    "def CalcDiscount(ListOfDics):\n",
    "    for dic in ListOfDics:\n",
    "        dic['AfterDiscount']=float(dic['amount'])-float(dic['down_payment'])\n",
    "loans2=ReadCsv('./data/loans2.txt')\n",
    "CalcDiscount(loans2)\n",
    "print(loans2)"
   ]
  },
  {
   "cell_type": "code",
   "execution_count": 93,
   "id": "ae9ff2eb",
   "metadata": {},
   "outputs": [],
   "source": [
    "\"\"\" ...... Write Changes to The File Again......\"\"\"\n",
    "with open('./data/loans2.txt','w') as f:\n",
    "    f.write('amount,duration,rate,down_payment,AfterDiscount\\n')\n",
    "    for loan in loans2:\n",
    "        f.write('{},{},{},{},{}\\n'.format(loan['amount'],loan['duration'],loan['rate'],loan['down_payment'],loan['AfterDiscount']))"
   ]
  }
 ],
 "metadata": {
  "kernelspec": {
   "display_name": "Python 3 (ipykernel)",
   "language": "python",
   "name": "python3"
  },
  "language_info": {
   "codemirror_mode": {
    "name": "ipython",
    "version": 3
   },
   "file_extension": ".py",
   "mimetype": "text/x-python",
   "name": "python",
   "nbconvert_exporter": "python",
   "pygments_lexer": "ipython3",
   "version": "3.11.3"
  }
 },
 "nbformat": 4,
 "nbformat_minor": 5
}
